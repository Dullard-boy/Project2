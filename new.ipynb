{
 "cells": [
  {
   "cell_type": "code",
   "execution_count": 1,
   "metadata": {},
   "outputs": [],
   "source": [
    "import pandas as pd"
   ]
  },
  {
   "cell_type": "code",
   "execution_count": 3,
   "metadata": {},
   "outputs": [],
   "source": [
    "with pd.ExcelFile('C:/Users/hp/My Documents/new.xlsx') as xls:\n",
    "    df1=pd.read_excel(xls,'Sheet1')\n",
    "    df2=pd.read_excel(xls,'Sheet2')"
   ]
  },
  {
   "cell_type": "code",
   "execution_count": 4,
   "metadata": {},
   "outputs": [
    {
     "data": {
      "text/html": [
       "<div>\n",
       "<style scoped>\n",
       "    .dataframe tbody tr th:only-of-type {\n",
       "        vertical-align: middle;\n",
       "    }\n",
       "\n",
       "    .dataframe tbody tr th {\n",
       "        vertical-align: top;\n",
       "    }\n",
       "\n",
       "    .dataframe thead th {\n",
       "        text-align: right;\n",
       "    }\n",
       "</style>\n",
       "<table border=\"1\" class=\"dataframe\">\n",
       "  <thead>\n",
       "    <tr style=\"text-align: right;\">\n",
       "      <th></th>\n",
       "      <th>respondent</th>\n",
       "      <th>No od labour</th>\n",
       "      <th>Cosr of labour</th>\n",
       "      <th>average monhly income</th>\n",
       "      <th>average monthly expense</th>\n",
       "      <th>total cost</th>\n",
       "    </tr>\n",
       "  </thead>\n",
       "  <tbody>\n",
       "    <tr>\n",
       "      <th>0</th>\n",
       "      <td>1</td>\n",
       "      <td>4</td>\n",
       "      <td>NaN</td>\n",
       "      <td>75000</td>\n",
       "      <td>30000</td>\n",
       "      <td>30000</td>\n",
       "    </tr>\n",
       "    <tr>\n",
       "      <th>1</th>\n",
       "      <td>2</td>\n",
       "      <td>1</td>\n",
       "      <td>20000.0</td>\n",
       "      <td>300000</td>\n",
       "      <td>7500</td>\n",
       "      <td>27500</td>\n",
       "    </tr>\n",
       "    <tr>\n",
       "      <th>2</th>\n",
       "      <td>3</td>\n",
       "      <td>2</td>\n",
       "      <td>30000.0</td>\n",
       "      <td>75000</td>\n",
       "      <td>30000</td>\n",
       "      <td>60000</td>\n",
       "    </tr>\n",
       "    <tr>\n",
       "      <th>3</th>\n",
       "      <td>4</td>\n",
       "      <td>3</td>\n",
       "      <td>24000.0</td>\n",
       "      <td>300000</td>\n",
       "      <td>30000</td>\n",
       "      <td>54000</td>\n",
       "    </tr>\n",
       "    <tr>\n",
       "      <th>4</th>\n",
       "      <td>5</td>\n",
       "      <td>3</td>\n",
       "      <td>50000.0</td>\n",
       "      <td>300000</td>\n",
       "      <td>30000</td>\n",
       "      <td>80000</td>\n",
       "    </tr>\n",
       "    <tr>\n",
       "      <th>5</th>\n",
       "      <td>6</td>\n",
       "      <td>2</td>\n",
       "      <td>20000.0</td>\n",
       "      <td>500000</td>\n",
       "      <td>300000</td>\n",
       "      <td>320000</td>\n",
       "    </tr>\n",
       "    <tr>\n",
       "      <th>6</th>\n",
       "      <td>7</td>\n",
       "      <td>2</td>\n",
       "      <td>30000.0</td>\n",
       "      <td>75000</td>\n",
       "      <td>7500</td>\n",
       "      <td>37500</td>\n",
       "    </tr>\n",
       "    <tr>\n",
       "      <th>7</th>\n",
       "      <td>8</td>\n",
       "      <td>2</td>\n",
       "      <td>20000.0</td>\n",
       "      <td>30000</td>\n",
       "      <td>7500</td>\n",
       "      <td>27500</td>\n",
       "    </tr>\n",
       "  </tbody>\n",
       "</table>\n",
       "</div>"
      ],
      "text/plain": [
       "   respondent  No od labour  Cosr of labour  average monhly income  \\\n",
       "0           1             4             NaN                  75000   \n",
       "1           2             1         20000.0                 300000   \n",
       "2           3             2         30000.0                  75000   \n",
       "3           4             3         24000.0                 300000   \n",
       "4           5             3         50000.0                 300000   \n",
       "5           6             2         20000.0                 500000   \n",
       "6           7             2         30000.0                  75000   \n",
       "7           8             2         20000.0                  30000   \n",
       "\n",
       "   average monthly expense  total cost  \n",
       "0                    30000       30000  \n",
       "1                     7500       27500  \n",
       "2                    30000       60000  \n",
       "3                    30000       54000  \n",
       "4                    30000       80000  \n",
       "5                   300000      320000  \n",
       "6                     7500       37500  \n",
       "7                     7500       27500  "
      ]
     },
     "execution_count": 4,
     "metadata": {},
     "output_type": "execute_result"
    }
   ],
   "source": [
    "df1"
   ]
  },
  {
   "cell_type": "code",
   "execution_count": 12,
   "metadata": {},
   "outputs": [],
   "source": [
    "df1=df1.rename(columns={'No od labour':'no of labour', 'Cosr of labour':'cost of labour', 'average monhly income':'average monthly income'})"
   ]
  },
  {
   "cell_type": "code",
   "execution_count": 16,
   "metadata": {},
   "outputs": [],
   "source": [
    "data=df1['cost of labour'].fillna(df1['cost of labour'].mean())"
   ]
  },
  {
   "cell_type": "code",
   "execution_count": 17,
   "metadata": {},
   "outputs": [],
   "source": [
    "df1.update(data)"
   ]
  },
  {
   "cell_type": "code",
   "execution_count": 18,
   "metadata": {},
   "outputs": [
    {
     "data": {
      "text/html": [
       "<div>\n",
       "<style scoped>\n",
       "    .dataframe tbody tr th:only-of-type {\n",
       "        vertical-align: middle;\n",
       "    }\n",
       "\n",
       "    .dataframe tbody tr th {\n",
       "        vertical-align: top;\n",
       "    }\n",
       "\n",
       "    .dataframe thead th {\n",
       "        text-align: right;\n",
       "    }\n",
       "</style>\n",
       "<table border=\"1\" class=\"dataframe\">\n",
       "  <thead>\n",
       "    <tr style=\"text-align: right;\">\n",
       "      <th></th>\n",
       "      <th>respondent</th>\n",
       "      <th>no of labour</th>\n",
       "      <th>cost of labour</th>\n",
       "      <th>average monthly income</th>\n",
       "      <th>average monthly expense</th>\n",
       "      <th>total cost</th>\n",
       "    </tr>\n",
       "  </thead>\n",
       "  <tbody>\n",
       "    <tr>\n",
       "      <th>0</th>\n",
       "      <td>1</td>\n",
       "      <td>4</td>\n",
       "      <td>27714.285714</td>\n",
       "      <td>75000</td>\n",
       "      <td>30000</td>\n",
       "      <td>30000</td>\n",
       "    </tr>\n",
       "    <tr>\n",
       "      <th>1</th>\n",
       "      <td>2</td>\n",
       "      <td>1</td>\n",
       "      <td>20000.000000</td>\n",
       "      <td>300000</td>\n",
       "      <td>7500</td>\n",
       "      <td>27500</td>\n",
       "    </tr>\n",
       "    <tr>\n",
       "      <th>2</th>\n",
       "      <td>3</td>\n",
       "      <td>2</td>\n",
       "      <td>30000.000000</td>\n",
       "      <td>75000</td>\n",
       "      <td>30000</td>\n",
       "      <td>60000</td>\n",
       "    </tr>\n",
       "    <tr>\n",
       "      <th>3</th>\n",
       "      <td>4</td>\n",
       "      <td>3</td>\n",
       "      <td>24000.000000</td>\n",
       "      <td>300000</td>\n",
       "      <td>30000</td>\n",
       "      <td>54000</td>\n",
       "    </tr>\n",
       "    <tr>\n",
       "      <th>4</th>\n",
       "      <td>5</td>\n",
       "      <td>3</td>\n",
       "      <td>50000.000000</td>\n",
       "      <td>300000</td>\n",
       "      <td>30000</td>\n",
       "      <td>80000</td>\n",
       "    </tr>\n",
       "    <tr>\n",
       "      <th>5</th>\n",
       "      <td>6</td>\n",
       "      <td>2</td>\n",
       "      <td>20000.000000</td>\n",
       "      <td>500000</td>\n",
       "      <td>300000</td>\n",
       "      <td>320000</td>\n",
       "    </tr>\n",
       "    <tr>\n",
       "      <th>6</th>\n",
       "      <td>7</td>\n",
       "      <td>2</td>\n",
       "      <td>30000.000000</td>\n",
       "      <td>75000</td>\n",
       "      <td>7500</td>\n",
       "      <td>37500</td>\n",
       "    </tr>\n",
       "    <tr>\n",
       "      <th>7</th>\n",
       "      <td>8</td>\n",
       "      <td>2</td>\n",
       "      <td>20000.000000</td>\n",
       "      <td>30000</td>\n",
       "      <td>7500</td>\n",
       "      <td>27500</td>\n",
       "    </tr>\n",
       "  </tbody>\n",
       "</table>\n",
       "</div>"
      ],
      "text/plain": [
       "   respondent  no of labour  cost of labour  average monthly income  \\\n",
       "0           1             4    27714.285714                   75000   \n",
       "1           2             1    20000.000000                  300000   \n",
       "2           3             2    30000.000000                   75000   \n",
       "3           4             3    24000.000000                  300000   \n",
       "4           5             3    50000.000000                  300000   \n",
       "5           6             2    20000.000000                  500000   \n",
       "6           7             2    30000.000000                   75000   \n",
       "7           8             2    20000.000000                   30000   \n",
       "\n",
       "   average monthly expense  total cost  \n",
       "0                    30000       30000  \n",
       "1                     7500       27500  \n",
       "2                    30000       60000  \n",
       "3                    30000       54000  \n",
       "4                    30000       80000  \n",
       "5                   300000      320000  \n",
       "6                     7500       37500  \n",
       "7                     7500       27500  "
      ]
     },
     "execution_count": 18,
     "metadata": {},
     "output_type": "execute_result"
    }
   ],
   "source": [
    "df1"
   ]
  },
  {
   "cell_type": "code",
   "execution_count": 35,
   "metadata": {},
   "outputs": [],
   "source": [
    "data=df1.corr()"
   ]
  },
  {
   "cell_type": "code",
   "execution_count": 36,
   "metadata": {},
   "outputs": [],
   "source": [
    "data=data[3:4]"
   ]
  },
  {
   "cell_type": "code",
   "execution_count": 37,
   "metadata": {},
   "outputs": [
    {
     "data": {
      "text/html": [
       "<div>\n",
       "<style scoped>\n",
       "    .dataframe tbody tr th:only-of-type {\n",
       "        vertical-align: middle;\n",
       "    }\n",
       "\n",
       "    .dataframe tbody tr th {\n",
       "        vertical-align: top;\n",
       "    }\n",
       "\n",
       "    .dataframe thead th {\n",
       "        text-align: right;\n",
       "    }\n",
       "</style>\n",
       "<table border=\"1\" class=\"dataframe\">\n",
       "  <thead>\n",
       "    <tr style=\"text-align: right;\">\n",
       "      <th></th>\n",
       "      <th>respondent</th>\n",
       "      <th>no of labour</th>\n",
       "      <th>cost of labour</th>\n",
       "      <th>average monthly income</th>\n",
       "      <th>average monthly expense</th>\n",
       "      <th>total cost</th>\n",
       "    </tr>\n",
       "  </thead>\n",
       "  <tbody>\n",
       "    <tr>\n",
       "      <th>average monthly income</th>\n",
       "      <td>-0.028799</td>\n",
       "      <td>-0.15925</td>\n",
       "      <td>-0.041792</td>\n",
       "      <td>1.0</td>\n",
       "      <td>0.721858</td>\n",
       "      <td>0.753429</td>\n",
       "    </tr>\n",
       "  </tbody>\n",
       "</table>\n",
       "</div>"
      ],
      "text/plain": [
       "                        respondent  no of labour  cost of labour  \\\n",
       "average monthly income   -0.028799      -0.15925       -0.041792   \n",
       "\n",
       "                        average monthly income  average monthly expense  \\\n",
       "average monthly income                     1.0                 0.721858   \n",
       "\n",
       "                        total cost  \n",
       "average monthly income    0.753429  "
      ]
     },
     "execution_count": 37,
     "metadata": {},
     "output_type": "execute_result"
    }
   ],
   "source": [
    "data"
   ]
  },
  {
   "cell_type": "code",
   "execution_count": 38,
   "metadata": {},
   "outputs": [
    {
     "data": {
      "text/html": [
       "<div>\n",
       "<style scoped>\n",
       "    .dataframe tbody tr th:only-of-type {\n",
       "        vertical-align: middle;\n",
       "    }\n",
       "\n",
       "    .dataframe tbody tr th {\n",
       "        vertical-align: top;\n",
       "    }\n",
       "\n",
       "    .dataframe thead th {\n",
       "        text-align: right;\n",
       "    }\n",
       "</style>\n",
       "<table border=\"1\" class=\"dataframe\">\n",
       "  <thead>\n",
       "    <tr style=\"text-align: right;\">\n",
       "      <th></th>\n",
       "      <th>cost of labour</th>\n",
       "      <th>average monthly expense</th>\n",
       "      <th>total cost</th>\n",
       "    </tr>\n",
       "  </thead>\n",
       "  <tbody>\n",
       "    <tr>\n",
       "      <th>average monthly income</th>\n",
       "      <td>-0.041792</td>\n",
       "      <td>0.721858</td>\n",
       "      <td>0.753429</td>\n",
       "    </tr>\n",
       "  </tbody>\n",
       "</table>\n",
       "</div>"
      ],
      "text/plain": [
       "                        cost of labour  average monthly expense  total cost\n",
       "average monthly income       -0.041792                 0.721858    0.753429"
      ]
     },
     "execution_count": 38,
     "metadata": {},
     "output_type": "execute_result"
    }
   ],
   "source": [
    "del data['respondent']\n",
    "del data['no of labour']\n",
    "del data['average monthly income']\n",
    "data"
   ]
  },
  {
   "cell_type": "code",
   "execution_count": 39,
   "metadata": {},
   "outputs": [],
   "source": [
    "data.to_excel('newcorr.xlsx')"
   ]
  },
  {
   "cell_type": "code",
   "execution_count": 40,
   "metadata": {},
   "outputs": [
    {
     "data": {
      "text/html": [
       "<div>\n",
       "<style scoped>\n",
       "    .dataframe tbody tr th:only-of-type {\n",
       "        vertical-align: middle;\n",
       "    }\n",
       "\n",
       "    .dataframe tbody tr th {\n",
       "        vertical-align: top;\n",
       "    }\n",
       "\n",
       "    .dataframe thead th {\n",
       "        text-align: right;\n",
       "    }\n",
       "</style>\n",
       "<table border=\"1\" class=\"dataframe\">\n",
       "  <thead>\n",
       "    <tr style=\"text-align: right;\">\n",
       "      <th></th>\n",
       "      <th>respondent</th>\n",
       "      <th>no of labour</th>\n",
       "      <th>cost of labour</th>\n",
       "      <th>average monthly income</th>\n",
       "      <th>average monthly expense</th>\n",
       "      <th>total cost</th>\n",
       "    </tr>\n",
       "  </thead>\n",
       "  <tbody>\n",
       "    <tr>\n",
       "      <th>0</th>\n",
       "      <td>1</td>\n",
       "      <td>4</td>\n",
       "      <td>27714.285714</td>\n",
       "      <td>75000</td>\n",
       "      <td>30000</td>\n",
       "      <td>30000</td>\n",
       "    </tr>\n",
       "    <tr>\n",
       "      <th>1</th>\n",
       "      <td>2</td>\n",
       "      <td>1</td>\n",
       "      <td>20000.000000</td>\n",
       "      <td>300000</td>\n",
       "      <td>7500</td>\n",
       "      <td>27500</td>\n",
       "    </tr>\n",
       "    <tr>\n",
       "      <th>2</th>\n",
       "      <td>3</td>\n",
       "      <td>2</td>\n",
       "      <td>30000.000000</td>\n",
       "      <td>75000</td>\n",
       "      <td>30000</td>\n",
       "      <td>60000</td>\n",
       "    </tr>\n",
       "    <tr>\n",
       "      <th>3</th>\n",
       "      <td>4</td>\n",
       "      <td>3</td>\n",
       "      <td>24000.000000</td>\n",
       "      <td>300000</td>\n",
       "      <td>30000</td>\n",
       "      <td>54000</td>\n",
       "    </tr>\n",
       "    <tr>\n",
       "      <th>4</th>\n",
       "      <td>5</td>\n",
       "      <td>3</td>\n",
       "      <td>50000.000000</td>\n",
       "      <td>300000</td>\n",
       "      <td>30000</td>\n",
       "      <td>80000</td>\n",
       "    </tr>\n",
       "    <tr>\n",
       "      <th>5</th>\n",
       "      <td>6</td>\n",
       "      <td>2</td>\n",
       "      <td>20000.000000</td>\n",
       "      <td>500000</td>\n",
       "      <td>300000</td>\n",
       "      <td>320000</td>\n",
       "    </tr>\n",
       "    <tr>\n",
       "      <th>6</th>\n",
       "      <td>7</td>\n",
       "      <td>2</td>\n",
       "      <td>30000.000000</td>\n",
       "      <td>75000</td>\n",
       "      <td>7500</td>\n",
       "      <td>37500</td>\n",
       "    </tr>\n",
       "    <tr>\n",
       "      <th>7</th>\n",
       "      <td>8</td>\n",
       "      <td>2</td>\n",
       "      <td>20000.000000</td>\n",
       "      <td>30000</td>\n",
       "      <td>7500</td>\n",
       "      <td>27500</td>\n",
       "    </tr>\n",
       "  </tbody>\n",
       "</table>\n",
       "</div>"
      ],
      "text/plain": [
       "   respondent  no of labour  cost of labour  average monthly income  \\\n",
       "0           1             4    27714.285714                   75000   \n",
       "1           2             1    20000.000000                  300000   \n",
       "2           3             2    30000.000000                   75000   \n",
       "3           4             3    24000.000000                  300000   \n",
       "4           5             3    50000.000000                  300000   \n",
       "5           6             2    20000.000000                  500000   \n",
       "6           7             2    30000.000000                   75000   \n",
       "7           8             2    20000.000000                   30000   \n",
       "\n",
       "   average monthly expense  total cost  \n",
       "0                    30000       30000  \n",
       "1                     7500       27500  \n",
       "2                    30000       60000  \n",
       "3                    30000       54000  \n",
       "4                    30000       80000  \n",
       "5                   300000      320000  \n",
       "6                     7500       37500  \n",
       "7                     7500       27500  "
      ]
     },
     "execution_count": 40,
     "metadata": {},
     "output_type": "execute_result"
    }
   ],
   "source": [
    "df1"
   ]
  },
  {
   "cell_type": "code",
   "execution_count": 41,
   "metadata": {},
   "outputs": [],
   "source": [
    "import seaborn as sb"
   ]
  },
  {
   "cell_type": "code",
   "execution_count": 44,
   "metadata": {},
   "outputs": [
    {
     "data": {
      "image/png": "[encoded data removed]",
      "text/plain": [
       "<Figure size 432x288 with 1 Axes>"
      ]
     },
     "metadata": {
      "needs_background": "light"
     },
     "output_type": "display_data"
    }
   ],
   "source": [
    "fig=sb.regplot(x='average monthly income',y='cost of labour',  data=df1)\n",
    "fig.figure.savefig('labvsinc.png')"
   ]
  },
  {
   "cell_type": "code",
   "execution_count": 45,
   "metadata": {},
   "outputs": [
    {
     "data": {
      "image/png": "[encoded data removed]",
      "text/plain": [
       "<Figure size 432x288 with 1 Axes>"
      ]
     },
     "metadata": {
      "needs_background": "light"
     },
     "output_type": "display_data"
    }
   ],
   "source": [
    "fig=sb.regplot( x='average monthly income', y='average monthly expense',data=df1)\n",
    "fig.figure.savefig('expvsinc.png')"
   ]
  },
  {
   "cell_type": "code",
   "execution_count": 46,
   "metadata": {},
   "outputs": [
    {
     "data": {
      "image/png": "[encoded data removed]",
      "text/plain": [
       "<Figure size 432x288 with 1 Axes>"
      ]
     },
     "metadata": {
      "needs_background": "light"
     },
     "output_type": "display_data"
    }
   ],
   "source": [
    "fig=sb.regplot( x='average monthly income', y='total cost',data=df1)\n",
    "fig.figure.savefig('totvsinc.png')"
   ]
  },
  {
   "cell_type": "code",
   "execution_count": 86,
   "metadata": {},
   "outputs": [],
   "source": [
    "df2['average no of fingerlings per year']='100000','200000','400000','200000','360000','500000','200000','120000'"
   ]
  },
  {
   "cell_type": "code",
   "execution_count": 97,
   "metadata": {},
   "outputs": [],
   "source": [
    "df2['average no of fingerlings per year']=df2['average no of fingerlings per year'].astype(int)"
   ]
  },
  {
   "cell_type": "code",
   "execution_count": 98,
   "metadata": {},
   "outputs": [
    {
     "data": {
      "text/html": [
       "<div>\n",
       "<style scoped>\n",
       "    .dataframe tbody tr th:only-of-type {\n",
       "        vertical-align: middle;\n",
       "    }\n",
       "\n",
       "    .dataframe tbody tr th {\n",
       "        vertical-align: top;\n",
       "    }\n",
       "\n",
       "    .dataframe thead th {\n",
       "        text-align: right;\n",
       "    }\n",
       "</style>\n",
       "<table border=\"1\" class=\"dataframe\">\n",
       "  <thead>\n",
       "    <tr style=\"text-align: right;\">\n",
       "      <th></th>\n",
       "      <th>respondents</th>\n",
       "      <th>Temp</th>\n",
       "      <th>pH</th>\n",
       "      <th>DO</th>\n",
       "      <th>Ammonia</th>\n",
       "      <th>average no of fingerlings per year</th>\n",
       "    </tr>\n",
       "  </thead>\n",
       "  <tbody>\n",
       "    <tr>\n",
       "      <th>0</th>\n",
       "      <td>1</td>\n",
       "      <td>27.4</td>\n",
       "      <td>6.7</td>\n",
       "      <td>4.55</td>\n",
       "      <td>0.38</td>\n",
       "      <td>100000</td>\n",
       "    </tr>\n",
       "    <tr>\n",
       "      <th>1</th>\n",
       "      <td>2</td>\n",
       "      <td>27.8</td>\n",
       "      <td>7.0</td>\n",
       "      <td>4.70</td>\n",
       "      <td>0.25</td>\n",
       "      <td>200000</td>\n",
       "    </tr>\n",
       "    <tr>\n",
       "      <th>2</th>\n",
       "      <td>3</td>\n",
       "      <td>28.5</td>\n",
       "      <td>7.2</td>\n",
       "      <td>5.05</td>\n",
       "      <td>0.63</td>\n",
       "      <td>400000</td>\n",
       "    </tr>\n",
       "    <tr>\n",
       "      <th>3</th>\n",
       "      <td>4</td>\n",
       "      <td>28.8</td>\n",
       "      <td>7.6</td>\n",
       "      <td>5.30</td>\n",
       "      <td>0.25</td>\n",
       "      <td>200000</td>\n",
       "    </tr>\n",
       "    <tr>\n",
       "      <th>4</th>\n",
       "      <td>5</td>\n",
       "      <td>28.4</td>\n",
       "      <td>6.8</td>\n",
       "      <td>3.90</td>\n",
       "      <td>0.25</td>\n",
       "      <td>360000</td>\n",
       "    </tr>\n",
       "    <tr>\n",
       "      <th>5</th>\n",
       "      <td>6</td>\n",
       "      <td>29.0</td>\n",
       "      <td>6.8</td>\n",
       "      <td>6.40</td>\n",
       "      <td>0.25</td>\n",
       "      <td>500000</td>\n",
       "    </tr>\n",
       "    <tr>\n",
       "      <th>6</th>\n",
       "      <td>7</td>\n",
       "      <td>27.9</td>\n",
       "      <td>7.2</td>\n",
       "      <td>5.40</td>\n",
       "      <td>0.25</td>\n",
       "      <td>200000</td>\n",
       "    </tr>\n",
       "    <tr>\n",
       "      <th>7</th>\n",
       "      <td>8</td>\n",
       "      <td>26.5</td>\n",
       "      <td>7.2</td>\n",
       "      <td>4.55</td>\n",
       "      <td>0.25</td>\n",
       "      <td>120000</td>\n",
       "    </tr>\n",
       "  </tbody>\n",
       "</table>\n",
       "</div>"
      ],
      "text/plain": [
       "   respondents  Temp   pH    DO  Ammonia  average no of fingerlings per year\n",
       "0            1  27.4  6.7  4.55     0.38                              100000\n",
       "1            2  27.8  7.0  4.70     0.25                              200000\n",
       "2            3  28.5  7.2  5.05     0.63                              400000\n",
       "3            4  28.8  7.6  5.30     0.25                              200000\n",
       "4            5  28.4  6.8  3.90     0.25                              360000\n",
       "5            6  29.0  6.8  6.40     0.25                              500000\n",
       "6            7  27.9  7.2  5.40     0.25                              200000\n",
       "7            8  26.5  7.2  4.55     0.25                              120000"
      ]
     },
     "execution_count": 98,
     "metadata": {},
     "output_type": "execute_result"
    }
   ],
   "source": [
    "df2"
   ]
  },
  {
   "cell_type": "code",
   "execution_count": 99,
   "metadata": {},
   "outputs": [
    {
     "data": {
      "text/html": [
       "<div>\n",
       "<style scoped>\n",
       "    .dataframe tbody tr th:only-of-type {\n",
       "        vertical-align: middle;\n",
       "    }\n",
       "\n",
       "    .dataframe tbody tr th {\n",
       "        vertical-align: top;\n",
       "    }\n",
       "\n",
       "    .dataframe thead th {\n",
       "        text-align: right;\n",
       "    }\n",
       "</style>\n",
       "<table border=\"1\" class=\"dataframe\">\n",
       "  <thead>\n",
       "    <tr style=\"text-align: right;\">\n",
       "      <th></th>\n",
       "      <th>respondents</th>\n",
       "      <th>Temp</th>\n",
       "      <th>pH</th>\n",
       "      <th>DO</th>\n",
       "      <th>Ammonia</th>\n",
       "      <th>average no of fingerlings per year</th>\n",
       "    </tr>\n",
       "  </thead>\n",
       "  <tbody>\n",
       "    <tr>\n",
       "      <th>respondents</th>\n",
       "      <td>1.000000</td>\n",
       "      <td>-0.167283</td>\n",
       "      <td>0.245204</td>\n",
       "      <td>0.239813</td>\n",
       "      <td>-0.440720</td>\n",
       "      <td>0.122328</td>\n",
       "    </tr>\n",
       "    <tr>\n",
       "      <th>Temp</th>\n",
       "      <td>-0.167283</td>\n",
       "      <td>1.000000</td>\n",
       "      <td>0.082840</td>\n",
       "      <td>0.511939</td>\n",
       "      <td>0.119391</td>\n",
       "      <td>0.763153</td>\n",
       "    </tr>\n",
       "    <tr>\n",
       "      <th>pH</th>\n",
       "      <td>0.245204</td>\n",
       "      <td>0.082840</td>\n",
       "      <td>1.000000</td>\n",
       "      <td>0.169869</td>\n",
       "      <td>0.018155</td>\n",
       "      <td>-0.228444</td>\n",
       "    </tr>\n",
       "    <tr>\n",
       "      <th>DO</th>\n",
       "      <td>0.239813</td>\n",
       "      <td>0.511939</td>\n",
       "      <td>0.169869</td>\n",
       "      <td>1.000000</td>\n",
       "      <td>-0.042163</td>\n",
       "      <td>0.459450</td>\n",
       "    </tr>\n",
       "    <tr>\n",
       "      <th>Ammonia</th>\n",
       "      <td>-0.440720</td>\n",
       "      <td>0.119391</td>\n",
       "      <td>0.018155</td>\n",
       "      <td>-0.042163</td>\n",
       "      <td>1.000000</td>\n",
       "      <td>0.238581</td>\n",
       "    </tr>\n",
       "    <tr>\n",
       "      <th>average no of fingerlings per year</th>\n",
       "      <td>0.122328</td>\n",
       "      <td>0.763153</td>\n",
       "      <td>-0.228444</td>\n",
       "      <td>0.459450</td>\n",
       "      <td>0.238581</td>\n",
       "      <td>1.000000</td>\n",
       "    </tr>\n",
       "  </tbody>\n",
       "</table>\n",
       "</div>"
      ],
      "text/plain": [
       "                                    respondents      Temp        pH        DO  \\\n",
       "respondents                            1.000000 -0.167283  0.245204  0.239813   \n",
       "Temp                                  -0.167283  1.000000  0.082840  0.511939   \n",
       "pH                                     0.245204  0.082840  1.000000  0.169869   \n",
       "DO                                     0.239813  0.511939  0.169869  1.000000   \n",
       "Ammonia                               -0.440720  0.119391  0.018155 -0.042163   \n",
       "average no of fingerlings per year     0.122328  0.763153 -0.228444  0.459450   \n",
       "\n",
       "                                     Ammonia  \\\n",
       "respondents                        -0.440720   \n",
       "Temp                                0.119391   \n",
       "pH                                  0.018155   \n",
       "DO                                 -0.042163   \n",
       "Ammonia                             1.000000   \n",
       "average no of fingerlings per year  0.238581   \n",
       "\n",
       "                                    average no of fingerlings per year  \n",
       "respondents                                                   0.122328  \n",
       "Temp                                                          0.763153  \n",
       "pH                                                           -0.228444  \n",
       "DO                                                            0.459450  \n",
       "Ammonia                                                       0.238581  \n",
       "average no of fingerlings per year                            1.000000  "
      ]
     },
     "execution_count": 99,
     "metadata": {},
     "output_type": "execute_result"
    }
   ],
   "source": [
    "df2.corr()"
   ]
  },
  {
   "cell_type": "code",
   "execution_count": 106,
   "metadata": {},
   "outputs": [
    {
     "data": {
      "image/png": "[encoded data removed]",
      "text/plain": [
       "<Figure size 432x288 with 1 Axes>"
      ]
     },
     "metadata": {
      "needs_background": "light"
     },
     "output_type": "display_data"
    }
   ],
   "source": [
    "fig=sb.regplot(x='average no of fingerlings per year', y='Ammonia',data=df2)\n",
    "fig.figure.savefig('fingvsamm.png')"
   ]
  },
  {
   "cell_type": "code",
   "execution_count": 107,
   "metadata": {},
   "outputs": [
    {
     "data": {
      "image/png": "[encoded data removed]",
      "text/plain": [
       "<Figure size 432x288 with 1 Axes>"
      ]
     },
     "metadata": {
      "needs_background": "light"
     },
     "output_type": "display_data"
    }
   ],
   "source": [
    "fig=sb.regplot(x='average no of fingerlings per year', y='pH',data=df2)\n",
    "fig.figure.savefig('fingvsph.png')"
   ]
  },
  {
   "cell_type": "code",
   "execution_count": 108,
   "metadata": {},
   "outputs": [
    {
     "data": {
      "image/png": "[encoded data removed]",
      "text/plain": [
       "<Figure size 432x288 with 1 Axes>"
      ]
     },
     "metadata": {
      "needs_background": "light"
     },
     "output_type": "display_data"
    }
   ],
   "source": [
    "fig=sb.regplot(x='average no of fingerlings per year', y='DO',data=df2)\n",
    "fig.figure.savefig('fingvsdo.png')"
   ]
  },
  {
   "cell_type": "code",
   "execution_count": 109,
   "metadata": {},
   "outputs": [
    {
     "data": {
      "image/png": "[encoded data removed]",
      "text/plain": [
       "<Figure size 432x288 with 1 Axes>"
      ]
     },
     "metadata": {
      "needs_background": "light"
     },
     "output_type": "display_data"
    }
   ],
   "source": [
    "fig=sb.regplot(x='average no of fingerlings per year', y='Temp',data=df2)\n",
    "fig.figure.savefig('fingvstemp.png')"
   ]
  },
  {
   "cell_type": "code",
   "execution_count": 114,
   "metadata": {},
   "outputs": [],
   "source": [
    "dt=df2.corr()\n",
    "dt=dt[5:6]"
   ]
  },
  {
   "cell_type": "code",
   "execution_count": 115,
   "metadata": {},
   "outputs": [
    {
     "data": {
      "text/html": [
       "<div>\n",
       "<style scoped>\n",
       "    .dataframe tbody tr th:only-of-type {\n",
       "        vertical-align: middle;\n",
       "    }\n",
       "\n",
       "    .dataframe tbody tr th {\n",
       "        vertical-align: top;\n",
       "    }\n",
       "\n",
       "    .dataframe thead th {\n",
       "        text-align: right;\n",
       "    }\n",
       "</style>\n",
       "<table border=\"1\" class=\"dataframe\">\n",
       "  <thead>\n",
       "    <tr style=\"text-align: right;\">\n",
       "      <th></th>\n",
       "      <th>respondents</th>\n",
       "      <th>Temp</th>\n",
       "      <th>pH</th>\n",
       "      <th>DO</th>\n",
       "      <th>Ammonia</th>\n",
       "      <th>average no of fingerlings per year</th>\n",
       "    </tr>\n",
       "  </thead>\n",
       "  <tbody>\n",
       "    <tr>\n",
       "      <th>average no of fingerlings per year</th>\n",
       "      <td>0.122328</td>\n",
       "      <td>0.763153</td>\n",
       "      <td>-0.228444</td>\n",
       "      <td>0.45945</td>\n",
       "      <td>0.238581</td>\n",
       "      <td>1.0</td>\n",
       "    </tr>\n",
       "  </tbody>\n",
       "</table>\n",
       "</div>"
      ],
      "text/plain": [
       "                                    respondents      Temp        pH       DO  \\\n",
       "average no of fingerlings per year     0.122328  0.763153 -0.228444  0.45945   \n",
       "\n",
       "                                     Ammonia  \\\n",
       "average no of fingerlings per year  0.238581   \n",
       "\n",
       "                                    average no of fingerlings per year  \n",
       "average no of fingerlings per year                                 1.0  "
      ]
     },
     "execution_count": 115,
     "metadata": {},
     "output_type": "execute_result"
    }
   ],
   "source": [
    "dt"
   ]
  },
  {
   "cell_type": "code",
   "execution_count": 116,
   "metadata": {},
   "outputs": [
    {
     "data": {
      "text/html": [
       "<div>\n",
       "<style scoped>\n",
       "    .dataframe tbody tr th:only-of-type {\n",
       "        vertical-align: middle;\n",
       "    }\n",
       "\n",
       "    .dataframe tbody tr th {\n",
       "        vertical-align: top;\n",
       "    }\n",
       "\n",
       "    .dataframe thead th {\n",
       "        text-align: right;\n",
       "    }\n",
       "</style>\n",
       "<table border=\"1\" class=\"dataframe\">\n",
       "  <thead>\n",
       "    <tr style=\"text-align: right;\">\n",
       "      <th></th>\n",
       "      <th>Temp</th>\n",
       "      <th>pH</th>\n",
       "      <th>DO</th>\n",
       "      <th>Ammonia</th>\n",
       "    </tr>\n",
       "  </thead>\n",
       "  <tbody>\n",
       "    <tr>\n",
       "      <th>average no of fingerlings per year</th>\n",
       "      <td>0.763153</td>\n",
       "      <td>-0.228444</td>\n",
       "      <td>0.45945</td>\n",
       "      <td>0.238581</td>\n",
       "    </tr>\n",
       "  </tbody>\n",
       "</table>\n",
       "</div>"
      ],
      "text/plain": [
       "                                        Temp        pH       DO   Ammonia\n",
       "average no of fingerlings per year  0.763153 -0.228444  0.45945  0.238581"
      ]
     },
     "execution_count": 116,
     "metadata": {},
     "output_type": "execute_result"
    }
   ],
   "source": [
    "del dt['respondents']\n",
    "del dt['average no of fingerlings per year']\n",
    "dt"
   ]
  },
  {
   "cell_type": "code",
   "execution_count": 117,
   "metadata": {},
   "outputs": [],
   "source": [
    "dt.to_excel('newly.xls')"
   ]
  },
  {
   "cell_type": "code",
   "execution_count": 118,
   "metadata": {},
   "outputs": [
    {
     "data": {
      "text/html": [
       "<div>\n",
       "<style scoped>\n",
       "    .dataframe tbody tr th:only-of-type {\n",
       "        vertical-align: middle;\n",
       "    }\n",
       "\n",
       "    .dataframe tbody tr th {\n",
       "        vertical-align: top;\n",
       "    }\n",
       "\n",
       "    .dataframe thead th {\n",
       "        text-align: right;\n",
       "    }\n",
       "</style>\n",
       "<table border=\"1\" class=\"dataframe\">\n",
       "  <thead>\n",
       "    <tr style=\"text-align: right;\">\n",
       "      <th></th>\n",
       "      <th>respondent</th>\n",
       "      <th>no of labour</th>\n",
       "      <th>cost of labour</th>\n",
       "      <th>average monthly income</th>\n",
       "      <th>average monthly expense</th>\n",
       "      <th>total cost</th>\n",
       "      <th>average no of fingerlings per year</th>\n",
       "    </tr>\n",
       "  </thead>\n",
       "  <tbody>\n",
       "    <tr>\n",
       "      <th>0</th>\n",
       "      <td>1</td>\n",
       "      <td>4</td>\n",
       "      <td>27714.285714</td>\n",
       "      <td>75000</td>\n",
       "      <td>30000</td>\n",
       "      <td>30000</td>\n",
       "      <td>100000</td>\n",
       "    </tr>\n",
       "    <tr>\n",
       "      <th>1</th>\n",
       "      <td>2</td>\n",
       "      <td>1</td>\n",
       "      <td>20000.000000</td>\n",
       "      <td>300000</td>\n",
       "      <td>7500</td>\n",
       "      <td>27500</td>\n",
       "      <td>200000</td>\n",
       "    </tr>\n",
       "    <tr>\n",
       "      <th>2</th>\n",
       "      <td>3</td>\n",
       "      <td>2</td>\n",
       "      <td>30000.000000</td>\n",
       "      <td>75000</td>\n",
       "      <td>30000</td>\n",
       "      <td>60000</td>\n",
       "      <td>400000</td>\n",
       "    </tr>\n",
       "    <tr>\n",
       "      <th>3</th>\n",
       "      <td>4</td>\n",
       "      <td>3</td>\n",
       "      <td>24000.000000</td>\n",
       "      <td>300000</td>\n",
       "      <td>30000</td>\n",
       "      <td>54000</td>\n",
       "      <td>200000</td>\n",
       "    </tr>\n",
       "    <tr>\n",
       "      <th>4</th>\n",
       "      <td>5</td>\n",
       "      <td>3</td>\n",
       "      <td>50000.000000</td>\n",
       "      <td>300000</td>\n",
       "      <td>30000</td>\n",
       "      <td>80000</td>\n",
       "      <td>360000</td>\n",
       "    </tr>\n",
       "    <tr>\n",
       "      <th>5</th>\n",
       "      <td>6</td>\n",
       "      <td>2</td>\n",
       "      <td>20000.000000</td>\n",
       "      <td>500000</td>\n",
       "      <td>300000</td>\n",
       "      <td>320000</td>\n",
       "      <td>500000</td>\n",
       "    </tr>\n",
       "    <tr>\n",
       "      <th>6</th>\n",
       "      <td>7</td>\n",
       "      <td>2</td>\n",
       "      <td>30000.000000</td>\n",
       "      <td>75000</td>\n",
       "      <td>7500</td>\n",
       "      <td>37500</td>\n",
       "      <td>200000</td>\n",
       "    </tr>\n",
       "    <tr>\n",
       "      <th>7</th>\n",
       "      <td>8</td>\n",
       "      <td>2</td>\n",
       "      <td>20000.000000</td>\n",
       "      <td>30000</td>\n",
       "      <td>7500</td>\n",
       "      <td>27500</td>\n",
       "      <td>120000</td>\n",
       "    </tr>\n",
       "  </tbody>\n",
       "</table>\n",
       "</div>"
      ],
      "text/plain": [
       "   respondent  no of labour  cost of labour  average monthly income  \\\n",
       "0           1             4    27714.285714                   75000   \n",
       "1           2             1    20000.000000                  300000   \n",
       "2           3             2    30000.000000                   75000   \n",
       "3           4             3    24000.000000                  300000   \n",
       "4           5             3    50000.000000                  300000   \n",
       "5           6             2    20000.000000                  500000   \n",
       "6           7             2    30000.000000                   75000   \n",
       "7           8             2    20000.000000                   30000   \n",
       "\n",
       "   average monthly expense  total cost  average no of fingerlings per year  \n",
       "0                    30000       30000                              100000  \n",
       "1                     7500       27500                              200000  \n",
       "2                    30000       60000                              400000  \n",
       "3                    30000       54000                              200000  \n",
       "4                    30000       80000                              360000  \n",
       "5                   300000      320000                              500000  \n",
       "6                     7500       37500                              200000  \n",
       "7                     7500       27500                              120000  "
      ]
     },
     "execution_count": 118,
     "metadata": {},
     "output_type": "execute_result"
    }
   ],
   "source": [
    "df1['average no of fingerlings per year']='100000','200000','400000','200000','360000','500000','200000','120000'\n",
    "df1['average no of fingerlings per year']=df2['average no of fingerlings per year'].astype(int)\n",
    "df1"
   ]
  },
  {
   "cell_type": "code",
   "execution_count": 119,
   "metadata": {},
   "outputs": [
    {
     "data": {
      "text/html": [
       "<div>\n",
       "<style scoped>\n",
       "    .dataframe tbody tr th:only-of-type {\n",
       "        vertical-align: middle;\n",
       "    }\n",
       "\n",
       "    .dataframe tbody tr th {\n",
       "        vertical-align: top;\n",
       "    }\n",
       "\n",
       "    .dataframe thead th {\n",
       "        text-align: right;\n",
       "    }\n",
       "</style>\n",
       "<table border=\"1\" class=\"dataframe\">\n",
       "  <thead>\n",
       "    <tr style=\"text-align: right;\">\n",
       "      <th></th>\n",
       "      <th>respondent</th>\n",
       "      <th>no of labour</th>\n",
       "      <th>cost of labour</th>\n",
       "      <th>average monthly income</th>\n",
       "      <th>average monthly expense</th>\n",
       "      <th>total cost</th>\n",
       "      <th>average no of fingerlings per year</th>\n",
       "    </tr>\n",
       "  </thead>\n",
       "  <tbody>\n",
       "    <tr>\n",
       "      <th>respondent</th>\n",
       "      <td>1.000000</td>\n",
       "      <td>-0.286473</td>\n",
       "      <td>-0.023338</td>\n",
       "      <td>-0.028799</td>\n",
       "      <td>0.191241</td>\n",
       "      <td>0.247186</td>\n",
       "      <td>0.122328</td>\n",
       "    </tr>\n",
       "    <tr>\n",
       "      <th>no of labour</th>\n",
       "      <td>-0.286473</td>\n",
       "      <td>1.000000</td>\n",
       "      <td>0.410057</td>\n",
       "      <td>-0.159250</td>\n",
       "      <td>-0.083752</td>\n",
       "      <td>-0.113798</td>\n",
       "      <td>-0.239854</td>\n",
       "    </tr>\n",
       "    <tr>\n",
       "      <th>cost of labour</th>\n",
       "      <td>-0.023338</td>\n",
       "      <td>0.410057</td>\n",
       "      <td>1.000000</td>\n",
       "      <td>-0.041792</td>\n",
       "      <td>-0.256710</td>\n",
       "      <td>-0.157152</td>\n",
       "      <td>0.232388</td>\n",
       "    </tr>\n",
       "    <tr>\n",
       "      <th>average monthly income</th>\n",
       "      <td>-0.028799</td>\n",
       "      <td>-0.159250</td>\n",
       "      <td>-0.041792</td>\n",
       "      <td>1.000000</td>\n",
       "      <td>0.721858</td>\n",
       "      <td>0.753429</td>\n",
       "      <td>0.620536</td>\n",
       "    </tr>\n",
       "    <tr>\n",
       "      <th>average monthly expense</th>\n",
       "      <td>0.191241</td>\n",
       "      <td>-0.083752</td>\n",
       "      <td>-0.256710</td>\n",
       "      <td>0.721858</td>\n",
       "      <td>1.000000</td>\n",
       "      <td>0.990063</td>\n",
       "      <td>0.709245</td>\n",
       "    </tr>\n",
       "    <tr>\n",
       "      <th>total cost</th>\n",
       "      <td>0.247186</td>\n",
       "      <td>-0.113798</td>\n",
       "      <td>-0.157152</td>\n",
       "      <td>0.753429</td>\n",
       "      <td>0.990063</td>\n",
       "      <td>1.000000</td>\n",
       "      <td>0.781631</td>\n",
       "    </tr>\n",
       "    <tr>\n",
       "      <th>average no of fingerlings per year</th>\n",
       "      <td>0.122328</td>\n",
       "      <td>-0.239854</td>\n",
       "      <td>0.232388</td>\n",
       "      <td>0.620536</td>\n",
       "      <td>0.709245</td>\n",
       "      <td>0.781631</td>\n",
       "      <td>1.000000</td>\n",
       "    </tr>\n",
       "  </tbody>\n",
       "</table>\n",
       "</div>"
      ],
      "text/plain": [
       "                                    respondent  no of labour  cost of labour  \\\n",
       "respondent                            1.000000     -0.286473       -0.023338   \n",
       "no of labour                         -0.286473      1.000000        0.410057   \n",
       "cost of labour                       -0.023338      0.410057        1.000000   \n",
       "average monthly income               -0.028799     -0.159250       -0.041792   \n",
       "average monthly expense               0.191241     -0.083752       -0.256710   \n",
       "total cost                            0.247186     -0.113798       -0.157152   \n",
       "average no of fingerlings per year    0.122328     -0.239854        0.232388   \n",
       "\n",
       "                                    average monthly income  \\\n",
       "respondent                                       -0.028799   \n",
       "no of labour                                     -0.159250   \n",
       "cost of labour                                   -0.041792   \n",
       "average monthly income                            1.000000   \n",
       "average monthly expense                           0.721858   \n",
       "total cost                                        0.753429   \n",
       "average no of fingerlings per year                0.620536   \n",
       "\n",
       "                                    average monthly expense  total cost  \\\n",
       "respondent                                         0.191241    0.247186   \n",
       "no of labour                                      -0.083752   -0.113798   \n",
       "cost of labour                                    -0.256710   -0.157152   \n",
       "average monthly income                             0.721858    0.753429   \n",
       "average monthly expense                            1.000000    0.990063   \n",
       "total cost                                         0.990063    1.000000   \n",
       "average no of fingerlings per year                 0.709245    0.781631   \n",
       "\n",
       "                                    average no of fingerlings per year  \n",
       "respondent                                                    0.122328  \n",
       "no of labour                                                 -0.239854  \n",
       "cost of labour                                                0.232388  \n",
       "average monthly income                                        0.620536  \n",
       "average monthly expense                                       0.709245  \n",
       "total cost                                                    0.781631  \n",
       "average no of fingerlings per year                            1.000000  "
      ]
     },
     "execution_count": 119,
     "metadata": {},
     "output_type": "execute_result"
    }
   ],
   "source": [
    "df1.corr()"
   ]
  },
  {
   "cell_type": "code",
   "execution_count": 127,
   "metadata": {},
   "outputs": [
    {
     "data": {
      "text/html": [
       "<div>\n",
       "<style scoped>\n",
       "    .dataframe tbody tr th:only-of-type {\n",
       "        vertical-align: middle;\n",
       "    }\n",
       "\n",
       "    .dataframe tbody tr th {\n",
       "        vertical-align: top;\n",
       "    }\n",
       "\n",
       "    .dataframe thead th {\n",
       "        text-align: right;\n",
       "    }\n",
       "</style>\n",
       "<table border=\"1\" class=\"dataframe\">\n",
       "  <thead>\n",
       "    <tr style=\"text-align: right;\">\n",
       "      <th></th>\n",
       "      <th>respondent</th>\n",
       "      <th>no of labour</th>\n",
       "      <th>cost of labour</th>\n",
       "      <th>average monthly income</th>\n",
       "      <th>average monthly expense</th>\n",
       "      <th>total cost</th>\n",
       "      <th>average no of fingerlings per year</th>\n",
       "    </tr>\n",
       "  </thead>\n",
       "  <tbody>\n",
       "    <tr>\n",
       "      <th>no of labour</th>\n",
       "      <td>-0.286473</td>\n",
       "      <td>1.0</td>\n",
       "      <td>0.410057</td>\n",
       "      <td>-0.15925</td>\n",
       "      <td>-0.083752</td>\n",
       "      <td>-0.113798</td>\n",
       "      <td>-0.239854</td>\n",
       "    </tr>\n",
       "  </tbody>\n",
       "</table>\n",
       "</div>"
      ],
      "text/plain": [
       "              respondent  no of labour  cost of labour  \\\n",
       "no of labour   -0.286473           1.0        0.410057   \n",
       "\n",
       "              average monthly income  average monthly expense  total cost  \\\n",
       "no of labour                -0.15925                -0.083752   -0.113798   \n",
       "\n",
       "              average no of fingerlings per year  \n",
       "no of labour                           -0.239854  "
      ]
     },
     "execution_count": 127,
     "metadata": {},
     "output_type": "execute_result"
    }
   ],
   "source": [
    "df1.corr()[1:2]"
   ]
  },
  {
   "cell_type": "code",
   "execution_count": 128,
   "metadata": {},
   "outputs": [
    {
     "data": {
      "image/png": "[encoded data removed]",
      "text/plain": [
       "<Figure size 432x288 with 1 Axes>"
      ]
     },
     "metadata": {
      "needs_background": "light"
     },
     "output_type": "display_data"
    }
   ],
   "source": [
    "fig=sb.regplot(x='average no of fingerlings per year', y='no of labour',data=df1)\n",
    "fig.figure.savefig('fingvslab.png')"
   ]
  },
  {
   "cell_type": "code",
   "execution_count": null,
   "metadata": {},
   "outputs": [],
   "source": []
  }
 ],
 "metadata": {
  "kernelspec": {
   "display_name": "Python 3",
   "language": "python",
   "name": "python3"
  },
  "language_info": {
   "codemirror_mode": {
    "name": "ipython",
    "version": 3
   },
   "file_extension": ".py",
   "mimetype": "text/x-python",
   "name": "python",
   "nbconvert_exporter": "python",
   "pygments_lexer": "ipython3",
   "version": "3.8.5"
  }
 },
 "nbformat": 4,
 "nbformat_minor": 4
}
